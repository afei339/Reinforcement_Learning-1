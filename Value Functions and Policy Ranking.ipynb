{
 "cells": [
  {
   "cell_type": "markdown",
   "metadata": {},
   "source": [
    "# Value Functions\n",
    "\n",
    "Given a **policy** as:\n",
    "\n",
    "$\\pi$(s,a) \n",
    "\n",
    "i.e. probability of selecting an action \"a\" given state \"s\",\n",
    "\n",
    "the **State Value Function** is defined as:\n",
    "\n",
    "## State Value Function\n",
    "\n",
    "![Value Function](images/value_function.png)\n",
    "\n",
    "which gives us the explicit measure of how good the state is.\n",
    "\n",
    "## Action Value Function\n",
    "\n",
    "![Action Value Function](images/Action_value_function.png)\n",
    "\n",
    "## Expectation Value\n",
    "\n",
    "Next problem is getting the value of \"E\" i.e. the expectation value. For small environments, it's easy to approximate that by keeping track of the average rewards recieved every time the agent encounters a particular state or (state, action) pair.\n",
    "\n",
    "For bigger environments like Atari, we parametrize the state space i.e express it as a mathematical function and use deep neural networks to approximate the value of \"E\" by training.\n",
    "\n",
    "## The Bellman Equation\n",
    "\n",
    "![Bellman Equation](images/Bellman_equation.png)"
   ]
  },
  {
   "cell_type": "markdown",
   "metadata": {},
   "source": [
    "# Rank Ordering Policies\n",
    "\n",
    "The whole aim of \"State Value Function V\" and the \"Action Value Function Q\" is to rank different policies and tweak the actions by comparing between old and new actions.\n",
    "\n",
    "If one policy has a better \"State Value Function V\", then it is better than other policies.\n",
    "\n",
    "There is always going to be one policy that is better than all other policies is called an \"optimal policy\"."
   ]
  }
 ],
 "metadata": {
  "kernelspec": {
   "display_name": "Python 3",
   "language": "python",
   "name": "python3"
  },
  "language_info": {
   "codemirror_mode": {
    "name": "ipython",
    "version": 3
   },
   "file_extension": ".py",
   "mimetype": "text/x-python",
   "name": "python",
   "nbconvert_exporter": "python",
   "pygments_lexer": "ipython3",
   "version": "3.6.10"
  }
 },
 "nbformat": 4,
 "nbformat_minor": 4
}
